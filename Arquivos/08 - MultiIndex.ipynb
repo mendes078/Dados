{
 "cells": [
  {
   "cell_type": "code",
   "execution_count": 1,
   "id": "18dd71e7-8cd1-4ba5-996c-bf968ba14c44",
   "metadata": {},
   "outputs": [],
   "source": [
    "import pandas as pd"
   ]
  },
  {
   "cell_type": "code",
   "execution_count": 2,
   "id": "c64b3ff3-8204-4617-a4d0-8ab0b84e3b72",
   "metadata": {},
   "outputs": [
    {
     "data": {
      "text/html": [
       "<div>\n",
       "<style scoped>\n",
       "    .dataframe tbody tr th:only-of-type {\n",
       "        vertical-align: middle;\n",
       "    }\n",
       "\n",
       "    .dataframe tbody tr th {\n",
       "        vertical-align: top;\n",
       "    }\n",
       "\n",
       "    .dataframe thead th {\n",
       "        text-align: right;\n",
       "    }\n",
       "</style>\n",
       "<table border=\"1\" class=\"dataframe\">\n",
       "  <thead>\n",
       "    <tr style=\"text-align: right;\">\n",
       "      <th></th>\n",
       "      <th></th>\n",
       "      <th>Price in US Dollars</th>\n",
       "    </tr>\n",
       "    <tr>\n",
       "      <th>Date</th>\n",
       "      <th>Country</th>\n",
       "      <th></th>\n",
       "    </tr>\n",
       "  </thead>\n",
       "  <tbody>\n",
       "    <tr>\n",
       "      <th rowspan=\"5\" valign=\"top\">2000-04-01</th>\n",
       "      <th>Argentina</th>\n",
       "      <td>2.500000</td>\n",
       "    </tr>\n",
       "    <tr>\n",
       "      <th>Australia</th>\n",
       "      <td>1.541667</td>\n",
       "    </tr>\n",
       "    <tr>\n",
       "      <th>Brazil</th>\n",
       "      <td>1.648045</td>\n",
       "    </tr>\n",
       "    <tr>\n",
       "      <th>Britain</th>\n",
       "      <td>3.002000</td>\n",
       "    </tr>\n",
       "    <tr>\n",
       "      <th>Canada</th>\n",
       "      <td>1.938776</td>\n",
       "    </tr>\n",
       "  </tbody>\n",
       "</table>\n",
       "</div>"
      ],
      "text/plain": [
       "                      Price in US Dollars\n",
       "Date       Country                       \n",
       "2000-04-01 Argentina             2.500000\n",
       "           Australia             1.541667\n",
       "           Brazil                1.648045\n",
       "           Britain               3.002000\n",
       "           Canada                1.938776"
      ]
     },
     "execution_count": 2,
     "metadata": {},
     "output_type": "execute_result"
    }
   ],
   "source": [
    "big_mac = pd.read_csv(\"bigmac.csv\", parse_dates = [\"Date\"], date_format = \"%Y-%m-%d\", index_col = [\"Date\", \"Country\"]).sort_index()\n",
    "big_mac.head()"
   ]
  },
  {
   "cell_type": "code",
   "execution_count": 3,
   "id": "88bfd273-7935-4de6-8c4b-ce8b9c12fe3e",
   "metadata": {},
   "outputs": [
    {
     "data": {
      "text/plain": [
       "(Timestamp('2000-04-01 00:00:00'), 'Argentina')"
      ]
     },
     "execution_count": 3,
     "metadata": {},
     "output_type": "execute_result"
    }
   ],
   "source": [
    "# big_mac.set_index(keys = [\"Date\", \"Country\"])\n",
    "# big_mac.set_index(keys = [\"Country\", \"Date\"]).sort_index()\n",
    "\n",
    "big_mac.index.names\n",
    "big_mac.index[0]"
   ]
  },
  {
   "cell_type": "code",
   "execution_count": 4,
   "id": "bdcea457-747f-4d5f-a159-a0ea67c2c94c",
   "metadata": {},
   "outputs": [
    {
     "data": {
      "text/plain": [
       "Index(['Argentina', 'Australia', 'Brazil', 'Britain', 'Canada', 'Chile',\n",
       "       'China', 'Czech Republic', 'Denmark', 'Euro area',\n",
       "       ...\n",
       "       'Sweden', 'Switzerland', 'Taiwan', 'Thailand', 'Turkey', 'Ukraine',\n",
       "       'United Arab Emirates', 'United States', 'Uruguay', 'Vietnam'],\n",
       "      dtype='object', name='Country', length=1386)"
      ]
     },
     "execution_count": 4,
     "metadata": {},
     "output_type": "execute_result"
    }
   ],
   "source": [
    "big_mac.index.get_level_values(\"Date\")\n",
    "big_mac.index.get_level_values(0)\n",
    "\n",
    "big_mac.index.get_level_values(\"Country\")\n",
    "big_mac.index.get_level_values(1)"
   ]
  },
  {
   "cell_type": "code",
   "execution_count": 10,
   "id": "edb66f0b-bdfc-49c8-b10a-a6c89726afb3",
   "metadata": {},
   "outputs": [],
   "source": [
    "big_mac.index.set_names(names = \"Time\", level = 0)\n",
    "big_mac.index.set_names(names = \"Location\", level = 1)\n",
    "big_mac.index.set_names(names = [\"Time\", \"Location\"])\n",
    "\n",
    "big_mac.index = big_mac.index.set_names(names = [\"Time\", \"Location\"])"
   ]
  },
  {
   "cell_type": "code",
   "execution_count": 11,
   "id": "15d426e5-1994-4a75-803f-6cd30c6554e0",
   "metadata": {},
   "outputs": [
    {
     "data": {
      "text/html": [
       "<div>\n",
       "<style scoped>\n",
       "    .dataframe tbody tr th:only-of-type {\n",
       "        vertical-align: middle;\n",
       "    }\n",
       "\n",
       "    .dataframe tbody tr th {\n",
       "        vertical-align: top;\n",
       "    }\n",
       "\n",
       "    .dataframe thead th {\n",
       "        text-align: right;\n",
       "    }\n",
       "</style>\n",
       "<table border=\"1\" class=\"dataframe\">\n",
       "  <thead>\n",
       "    <tr style=\"text-align: right;\">\n",
       "      <th></th>\n",
       "      <th></th>\n",
       "      <th>Price in US Dollars</th>\n",
       "    </tr>\n",
       "    <tr>\n",
       "      <th>Time</th>\n",
       "      <th>Location</th>\n",
       "      <th></th>\n",
       "    </tr>\n",
       "  </thead>\n",
       "  <tbody>\n",
       "    <tr>\n",
       "      <th rowspan=\"5\" valign=\"top\">2000-04-01</th>\n",
       "      <th>Argentina</th>\n",
       "      <td>2.500000</td>\n",
       "    </tr>\n",
       "    <tr>\n",
       "      <th>Australia</th>\n",
       "      <td>1.541667</td>\n",
       "    </tr>\n",
       "    <tr>\n",
       "      <th>Brazil</th>\n",
       "      <td>1.648045</td>\n",
       "    </tr>\n",
       "    <tr>\n",
       "      <th>Britain</th>\n",
       "      <td>3.002000</td>\n",
       "    </tr>\n",
       "    <tr>\n",
       "      <th>Canada</th>\n",
       "      <td>1.938776</td>\n",
       "    </tr>\n",
       "    <tr>\n",
       "      <th>...</th>\n",
       "      <th>...</th>\n",
       "      <td>...</td>\n",
       "    </tr>\n",
       "    <tr>\n",
       "      <th rowspan=\"5\" valign=\"top\">2020-07-01</th>\n",
       "      <th>Ukraine</th>\n",
       "      <td>2.174714</td>\n",
       "    </tr>\n",
       "    <tr>\n",
       "      <th>United Arab Emirates</th>\n",
       "      <td>4.015846</td>\n",
       "    </tr>\n",
       "    <tr>\n",
       "      <th>United States</th>\n",
       "      <td>5.710000</td>\n",
       "    </tr>\n",
       "    <tr>\n",
       "      <th>Uruguay</th>\n",
       "      <td>4.327418</td>\n",
       "    </tr>\n",
       "    <tr>\n",
       "      <th>Vietnam</th>\n",
       "      <td>2.847282</td>\n",
       "    </tr>\n",
       "  </tbody>\n",
       "</table>\n",
       "<p>1386 rows × 1 columns</p>\n",
       "</div>"
      ],
      "text/plain": [
       "                                 Price in US Dollars\n",
       "Time       Location                                 \n",
       "2000-04-01 Argentina                        2.500000\n",
       "           Australia                        1.541667\n",
       "           Brazil                           1.648045\n",
       "           Britain                          3.002000\n",
       "           Canada                           1.938776\n",
       "...                                              ...\n",
       "2020-07-01 Ukraine                          2.174714\n",
       "           United Arab Emirates             4.015846\n",
       "           United States                    5.710000\n",
       "           Uruguay                          4.327418\n",
       "           Vietnam                          2.847282\n",
       "\n",
       "[1386 rows x 1 columns]"
      ]
     },
     "execution_count": 11,
     "metadata": {},
     "output_type": "execute_result"
    }
   ],
   "source": [
    "big_mac"
   ]
  },
  {
   "cell_type": "code",
   "execution_count": null,
   "id": "f75e8dcb-ca8d-4bef-b050-df31b274f076",
   "metadata": {},
   "outputs": [],
   "source": []
  }
 ],
 "metadata": {
  "kernelspec": {
   "display_name": "Python 3 (ipykernel)",
   "language": "python",
   "name": "python3"
  },
  "language_info": {
   "codemirror_mode": {
    "name": "ipython",
    "version": 3
   },
   "file_extension": ".py",
   "mimetype": "text/x-python",
   "name": "python",
   "nbconvert_exporter": "python",
   "pygments_lexer": "ipython3",
   "version": "3.13.2"
  }
 },
 "nbformat": 4,
 "nbformat_minor": 5
}
