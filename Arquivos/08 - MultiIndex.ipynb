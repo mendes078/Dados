{
 "cells": [
  {
   "cell_type": "code",
   "execution_count": 1,
   "id": "18dd71e7-8cd1-4ba5-996c-bf968ba14c44",
   "metadata": {},
   "outputs": [],
   "source": [
    "import pandas as pd"
   ]
  },
  {
   "cell_type": "code",
   "execution_count": 2,
   "id": "c64b3ff3-8204-4617-a4d0-8ab0b84e3b72",
   "metadata": {},
   "outputs": [
    {
     "data": {
      "text/html": [
       "<div>\n",
       "<style scoped>\n",
       "    .dataframe tbody tr th:only-of-type {\n",
       "        vertical-align: middle;\n",
       "    }\n",
       "\n",
       "    .dataframe tbody tr th {\n",
       "        vertical-align: top;\n",
       "    }\n",
       "\n",
       "    .dataframe thead th {\n",
       "        text-align: right;\n",
       "    }\n",
       "</style>\n",
       "<table border=\"1\" class=\"dataframe\">\n",
       "  <thead>\n",
       "    <tr style=\"text-align: right;\">\n",
       "      <th></th>\n",
       "      <th></th>\n",
       "      <th>Price in US Dollars</th>\n",
       "    </tr>\n",
       "    <tr>\n",
       "      <th>Date</th>\n",
       "      <th>Country</th>\n",
       "      <th></th>\n",
       "    </tr>\n",
       "  </thead>\n",
       "  <tbody>\n",
       "    <tr>\n",
       "      <th rowspan=\"5\" valign=\"top\">2000-04-01</th>\n",
       "      <th>Argentina</th>\n",
       "      <td>2.500000</td>\n",
       "    </tr>\n",
       "    <tr>\n",
       "      <th>Australia</th>\n",
       "      <td>1.541667</td>\n",
       "    </tr>\n",
       "    <tr>\n",
       "      <th>Brazil</th>\n",
       "      <td>1.648045</td>\n",
       "    </tr>\n",
       "    <tr>\n",
       "      <th>Britain</th>\n",
       "      <td>3.002000</td>\n",
       "    </tr>\n",
       "    <tr>\n",
       "      <th>Canada</th>\n",
       "      <td>1.938776</td>\n",
       "    </tr>\n",
       "  </tbody>\n",
       "</table>\n",
       "</div>"
      ],
      "text/plain": [
       "                      Price in US Dollars\n",
       "Date       Country                       \n",
       "2000-04-01 Argentina             2.500000\n",
       "           Australia             1.541667\n",
       "           Brazil                1.648045\n",
       "           Britain               3.002000\n",
       "           Canada                1.938776"
      ]
     },
     "execution_count": 2,
     "metadata": {},
     "output_type": "execute_result"
    }
   ],
   "source": [
    "big_mac = pd.read_csv(\"bigmac.csv\", parse_dates = [\"Date\"], date_format = \"%Y-%m-%d\", index_col = [\"Date\", \"Country\"]).sort_index()\n",
    "big_mac.head()"
   ]
  },
  {
   "cell_type": "code",
   "execution_count": 3,
   "id": "88bfd273-7935-4de6-8c4b-ce8b9c12fe3e",
   "metadata": {},
   "outputs": [
    {
     "data": {
      "text/plain": [
       "(Timestamp('2000-04-01 00:00:00'), 'Argentina')"
      ]
     },
     "execution_count": 3,
     "metadata": {},
     "output_type": "execute_result"
    }
   ],
   "source": [
    "# big_mac.set_index(keys = [\"Date\", \"Country\"])\n",
    "# big_mac.set_index(keys = [\"Country\", \"Date\"]).sort_index()\n",
    "\n",
    "big_mac.index.names\n",
    "big_mac.index[0]"
   ]
  },
  {
   "cell_type": "code",
   "execution_count": 4,
   "id": "bdcea457-747f-4d5f-a159-a0ea67c2c94c",
   "metadata": {},
   "outputs": [
    {
     "data": {
      "text/plain": [
       "Index(['Argentina', 'Australia', 'Brazil', 'Britain', 'Canada', 'Chile',\n",
       "       'China', 'Czech Republic', 'Denmark', 'Euro area',\n",
       "       ...\n",
       "       'Sweden', 'Switzerland', 'Taiwan', 'Thailand', 'Turkey', 'Ukraine',\n",
       "       'United Arab Emirates', 'United States', 'Uruguay', 'Vietnam'],\n",
       "      dtype='object', name='Country', length=1386)"
      ]
     },
     "execution_count": 4,
     "metadata": {},
     "output_type": "execute_result"
    }
   ],
   "source": [
    "big_mac.index.get_level_values(\"Date\")\n",
    "big_mac.index.get_level_values(0)\n",
    "\n",
    "big_mac.index.get_level_values(\"Country\")\n",
    "big_mac.index.get_level_values(1)"
   ]
  },
  {
   "cell_type": "code",
   "execution_count": 5,
   "id": "edb66f0b-bdfc-49c8-b10a-a6c89726afb3",
   "metadata": {},
   "outputs": [],
   "source": [
    "big_mac.index.set_names(names = \"Time\", level = 0)\n",
    "big_mac.index.set_names(names = \"Location\", level = 1)\n",
    "big_mac.index.set_names(names = [\"Time\", \"Location\"])\n",
    "\n",
    "big_mac.index = big_mac.index.set_names(names = [\"Time\", \"Location\"])"
   ]
  },
  {
   "cell_type": "code",
   "execution_count": 6,
   "id": "f75e8dcb-ca8d-4bef-b050-df31b274f076",
   "metadata": {},
   "outputs": [
    {
     "data": {
      "text/html": [
       "<div>\n",
       "<style scoped>\n",
       "    .dataframe tbody tr th:only-of-type {\n",
       "        vertical-align: middle;\n",
       "    }\n",
       "\n",
       "    .dataframe tbody tr th {\n",
       "        vertical-align: top;\n",
       "    }\n",
       "\n",
       "    .dataframe thead th {\n",
       "        text-align: right;\n",
       "    }\n",
       "</style>\n",
       "<table border=\"1\" class=\"dataframe\">\n",
       "  <thead>\n",
       "    <tr style=\"text-align: right;\">\n",
       "      <th></th>\n",
       "      <th></th>\n",
       "      <th>Price in US Dollars</th>\n",
       "    </tr>\n",
       "    <tr>\n",
       "      <th>Time</th>\n",
       "      <th>Location</th>\n",
       "      <th></th>\n",
       "    </tr>\n",
       "  </thead>\n",
       "  <tbody>\n",
       "    <tr>\n",
       "      <th rowspan=\"5\" valign=\"top\">2020-07-01</th>\n",
       "      <th>Argentina</th>\n",
       "      <td>3.509232</td>\n",
       "    </tr>\n",
       "    <tr>\n",
       "      <th>Australia</th>\n",
       "      <td>4.578450</td>\n",
       "    </tr>\n",
       "    <tr>\n",
       "      <th>Azerbaijan</th>\n",
       "      <td>2.324897</td>\n",
       "    </tr>\n",
       "    <tr>\n",
       "      <th>Bahrain</th>\n",
       "      <td>3.713035</td>\n",
       "    </tr>\n",
       "    <tr>\n",
       "      <th>Brazil</th>\n",
       "      <td>3.913528</td>\n",
       "    </tr>\n",
       "    <tr>\n",
       "      <th>...</th>\n",
       "      <th>...</th>\n",
       "      <td>...</td>\n",
       "    </tr>\n",
       "    <tr>\n",
       "      <th rowspan=\"5\" valign=\"top\">2000-04-01</th>\n",
       "      <th>Sweden</th>\n",
       "      <td>2.714932</td>\n",
       "    </tr>\n",
       "    <tr>\n",
       "      <th>Switzerland</th>\n",
       "      <td>3.470588</td>\n",
       "    </tr>\n",
       "    <tr>\n",
       "      <th>Taiwan</th>\n",
       "      <td>2.287582</td>\n",
       "    </tr>\n",
       "    <tr>\n",
       "      <th>Thailand</th>\n",
       "      <td>1.447368</td>\n",
       "    </tr>\n",
       "    <tr>\n",
       "      <th>United States</th>\n",
       "      <td>2.510000</td>\n",
       "    </tr>\n",
       "  </tbody>\n",
       "</table>\n",
       "<p>1386 rows × 1 columns</p>\n",
       "</div>"
      ],
      "text/plain": [
       "                          Price in US Dollars\n",
       "Time       Location                          \n",
       "2020-07-01 Argentina                 3.509232\n",
       "           Australia                 4.578450\n",
       "           Azerbaijan                2.324897\n",
       "           Bahrain                   3.713035\n",
       "           Brazil                    3.913528\n",
       "...                                       ...\n",
       "2000-04-01 Sweden                    2.714932\n",
       "           Switzerland               3.470588\n",
       "           Taiwan                    2.287582\n",
       "           Thailand                  1.447368\n",
       "           United States             2.510000\n",
       "\n",
       "[1386 rows x 1 columns]"
      ]
     },
     "execution_count": 6,
     "metadata": {},
     "output_type": "execute_result"
    }
   ],
   "source": [
    "big_mac.sort_index()\n",
    "big_mac.sort_index(ascending = True)\n",
    "big_mac.sort_index(ascending = False)\n",
    "\n",
    "big_mac.sort_index(ascending = [True, False])\n",
    "big_mac.sort_index(ascending = [False, True])"
   ]
  },
  {
   "cell_type": "code",
   "execution_count": 7,
   "id": "69047814-fda4-475b-818b-a653d8a0a473",
   "metadata": {},
   "outputs": [
    {
     "data": {
      "text/plain": [
       "Price in US Dollars    1.648045\n",
       "Name: (2000-04-01 00:00:00, Brazil), dtype: float64"
      ]
     },
     "execution_count": 7,
     "metadata": {},
     "output_type": "execute_result"
    }
   ],
   "source": [
    "big_mac.iloc[2]"
   ]
  },
  {
   "cell_type": "code",
   "execution_count": 8,
   "id": "b685fed0-4e1d-48ff-bd4e-b08ea02bec59",
   "metadata": {},
   "outputs": [
    {
     "data": {
      "text/plain": [
       "Time        Location   \n",
       "2012-01-01  Brazil         5.678670\n",
       "            Britain        3.823395\n",
       "            Canada         4.632940\n",
       "            Chile          4.050983\n",
       "            China          2.438445\n",
       "                             ...   \n",
       "2013-07-01  Sweden         6.156874\n",
       "            Switzerland    6.719041\n",
       "            Taiwan         2.630834\n",
       "            Thailand       2.845723\n",
       "            Turkey         4.342384\n",
       "Name: Price in US Dollars, Length: 160, dtype: float64"
      ]
     },
     "execution_count": 8,
     "metadata": {},
     "output_type": "execute_result"
    }
   ],
   "source": [
    "big_mac.loc[\"2000-04-01\"]\n",
    "big_mac.loc[\"2000-04-01\", \"Canada\"]\n",
    "big_mac.loc[\"2000-04-01\", \"Price in US Dollars\"]\n",
    "\n",
    "big_mac.loc[(\"2000-04-01\", \"Canada\")]\n",
    "\n",
    "start = (\"2000-04-01\", \"Hungary\")\n",
    "end = (\"2000-04-01\", \"Poland\")\n",
    "big_mac.loc[(\"2000-04-01\", \"Hungary\"): (\"2000-04-01\", \"Poland\")]\n",
    "big_mac.loc[start: end]\n",
    "\n",
    "big_mac.loc[(\"2019-07-09\", \"Hungary\"):]\n",
    "\n",
    "big_mac.loc[(\"2012-01-01\", \"Brazil\"): (\"2013-07-01\", \"Turkey\")]\n",
    "\n",
    "big_mac.loc[(\"2012-01-01\", \"Brazil\"): (\"2013-07-01\", \"Turkey\"), \"Price in US Dollars\"]"
   ]
  },
  {
   "cell_type": "code",
   "execution_count": 10,
   "id": "ce54f1d0-e36a-41d1-8996-b18ace71bd96",
   "metadata": {},
   "outputs": [
    {
     "data": {
      "text/html": [
       "<div>\n",
       "<style scoped>\n",
       "    .dataframe tbody tr th:only-of-type {\n",
       "        vertical-align: middle;\n",
       "    }\n",
       "\n",
       "    .dataframe tbody tr th {\n",
       "        vertical-align: top;\n",
       "    }\n",
       "\n",
       "    .dataframe thead tr th {\n",
       "        text-align: left;\n",
       "    }\n",
       "</style>\n",
       "<table border=\"1\" class=\"dataframe\">\n",
       "  <thead>\n",
       "    <tr>\n",
       "      <th>Time</th>\n",
       "      <th colspan=\"5\" halign=\"left\">2018-01-01</th>\n",
       "    </tr>\n",
       "    <tr>\n",
       "      <th>Location</th>\n",
       "      <th>China</th>\n",
       "      <th>Colombia</th>\n",
       "      <th>Costa Rica</th>\n",
       "      <th>Czech Republic</th>\n",
       "      <th>Denmark</th>\n",
       "    </tr>\n",
       "  </thead>\n",
       "  <tbody>\n",
       "    <tr>\n",
       "      <th>Price in US Dollars</th>\n",
       "      <td>3.171642</td>\n",
       "      <td>3.832468</td>\n",
       "      <td>4.027932</td>\n",
       "      <td>3.807779</td>\n",
       "      <td>4.93202</td>\n",
       "    </tr>\n",
       "  </tbody>\n",
       "</table>\n",
       "</div>"
      ],
      "text/plain": [
       "Time                2018-01-01                                             \n",
       "Location                 China  Colombia Costa Rica Czech Republic  Denmark\n",
       "Price in US Dollars   3.171642  3.832468   4.027932       3.807779  4.93202"
      ]
     },
     "execution_count": 10,
     "metadata": {},
     "output_type": "execute_result"
    }
   ],
   "source": [
    "start = (\"2018-01-01\", \"China\")\n",
    "end = (\"2018-01-01\", \"Denmark\")\n",
    "\n",
    "big_mac.loc[start:end].transpose()"
   ]
  },
  {
   "cell_type": "code",
   "execution_count": 22,
   "id": "ba0b5cd2-d2d3-40e1-bf07-6512f9289018",
   "metadata": {},
   "outputs": [
    {
     "data": {
      "text/plain": [
       "year  country                \n",
       "1960  Afghanistan  Population    8.994793e+06\n",
       "                   GDP           5.377778e+08\n",
       "      Algeria      Population    1.112489e+07\n",
       "                   GDP           2.723638e+09\n",
       "      Australia    Population    1.027648e+07\n",
       "dtype: float64"
      ]
     },
     "execution_count": 22,
     "metadata": {},
     "output_type": "execute_result"
    }
   ],
   "source": [
    "world_stats = pd.read_csv(\"worldstats.csv\", index_col = [\"year\", \"country\"]).sort_index().stack()\n",
    "world_stats.head()"
   ]
  },
  {
   "cell_type": "code",
   "execution_count": 21,
   "id": "3cf7fcfb-dfda-4084-b5d0-ecbc04ef3208",
   "metadata": {},
   "outputs": [
    {
     "data": {
      "text/html": [
       "<div>\n",
       "<style scoped>\n",
       "    .dataframe tbody tr th:only-of-type {\n",
       "        vertical-align: middle;\n",
       "    }\n",
       "\n",
       "    .dataframe tbody tr th {\n",
       "        vertical-align: top;\n",
       "    }\n",
       "\n",
       "    .dataframe thead th {\n",
       "        text-align: right;\n",
       "    }\n",
       "</style>\n",
       "<table border=\"1\" class=\"dataframe\">\n",
       "  <thead>\n",
       "    <tr style=\"text-align: right;\">\n",
       "      <th></th>\n",
       "      <th></th>\n",
       "      <th></th>\n",
       "      <th>0</th>\n",
       "    </tr>\n",
       "    <tr>\n",
       "      <th>year</th>\n",
       "      <th>country</th>\n",
       "      <th></th>\n",
       "      <th></th>\n",
       "    </tr>\n",
       "  </thead>\n",
       "  <tbody>\n",
       "    <tr>\n",
       "      <th rowspan=\"5\" valign=\"top\">1960</th>\n",
       "      <th rowspan=\"2\" valign=\"top\">Afghanistan</th>\n",
       "      <th>Population</th>\n",
       "      <td>8.994793e+06</td>\n",
       "    </tr>\n",
       "    <tr>\n",
       "      <th>GDP</th>\n",
       "      <td>5.377778e+08</td>\n",
       "    </tr>\n",
       "    <tr>\n",
       "      <th rowspan=\"2\" valign=\"top\">Algeria</th>\n",
       "      <th>Population</th>\n",
       "      <td>1.112489e+07</td>\n",
       "    </tr>\n",
       "    <tr>\n",
       "      <th>GDP</th>\n",
       "      <td>2.723638e+09</td>\n",
       "    </tr>\n",
       "    <tr>\n",
       "      <th>Australia</th>\n",
       "      <th>Population</th>\n",
       "      <td>1.027648e+07</td>\n",
       "    </tr>\n",
       "    <tr>\n",
       "      <th>...</th>\n",
       "      <th>...</th>\n",
       "      <th>...</th>\n",
       "      <td>...</td>\n",
       "    </tr>\n",
       "    <tr>\n",
       "      <th rowspan=\"5\" valign=\"top\">2015</th>\n",
       "      <th>World</th>\n",
       "      <th>GDP</th>\n",
       "      <td>7.343364e+13</td>\n",
       "    </tr>\n",
       "    <tr>\n",
       "      <th rowspan=\"2\" valign=\"top\">Zambia</th>\n",
       "      <th>Population</th>\n",
       "      <td>1.621177e+07</td>\n",
       "    </tr>\n",
       "    <tr>\n",
       "      <th>GDP</th>\n",
       "      <td>2.120156e+10</td>\n",
       "    </tr>\n",
       "    <tr>\n",
       "      <th rowspan=\"2\" valign=\"top\">Zimbabwe</th>\n",
       "      <th>Population</th>\n",
       "      <td>1.560275e+07</td>\n",
       "    </tr>\n",
       "    <tr>\n",
       "      <th>GDP</th>\n",
       "      <td>1.389294e+10</td>\n",
       "    </tr>\n",
       "  </tbody>\n",
       "</table>\n",
       "<p>22422 rows × 1 columns</p>\n",
       "</div>"
      ],
      "text/plain": [
       "                                        0\n",
       "year country                             \n",
       "1960 Afghanistan Population  8.994793e+06\n",
       "                 GDP         5.377778e+08\n",
       "     Algeria     Population  1.112489e+07\n",
       "                 GDP         2.723638e+09\n",
       "     Australia   Population  1.027648e+07\n",
       "...                                   ...\n",
       "2015 World       GDP         7.343364e+13\n",
       "     Zambia      Population  1.621177e+07\n",
       "                 GDP         2.120156e+10\n",
       "     Zimbabwe    Population  1.560275e+07\n",
       "                 GDP         1.389294e+10\n",
       "\n",
       "[22422 rows x 1 columns]"
      ]
     },
     "execution_count": 21,
     "metadata": {},
     "output_type": "execute_result"
    }
   ],
   "source": [
    "# world_stats.stack()\n",
    "# world_stats.stack().to_frame()"
   ]
  },
  {
   "cell_type": "code",
   "execution_count": 34,
   "id": "dec1c840-a44c-4e94-a1b6-50f4484cf084",
   "metadata": {},
   "outputs": [
    {
     "data": {
      "text/html": [
       "<div>\n",
       "<style scoped>\n",
       "    .dataframe tbody tr th:only-of-type {\n",
       "        vertical-align: middle;\n",
       "    }\n",
       "\n",
       "    .dataframe tbody tr th {\n",
       "        vertical-align: top;\n",
       "    }\n",
       "\n",
       "    .dataframe thead tr th {\n",
       "        text-align: left;\n",
       "    }\n",
       "</style>\n",
       "<table border=\"1\" class=\"dataframe\">\n",
       "  <thead>\n",
       "    <tr>\n",
       "      <th>year</th>\n",
       "      <th colspan=\"10\" halign=\"left\">1960</th>\n",
       "      <th>...</th>\n",
       "      <th colspan=\"10\" halign=\"left\">2015</th>\n",
       "    </tr>\n",
       "    <tr>\n",
       "      <th>country</th>\n",
       "      <th>Afghanistan</th>\n",
       "      <th>Algeria</th>\n",
       "      <th>Australia</th>\n",
       "      <th>Austria</th>\n",
       "      <th>Bahamas, The</th>\n",
       "      <th>Bangladesh</th>\n",
       "      <th>Belgium</th>\n",
       "      <th>Belize</th>\n",
       "      <th>Benin</th>\n",
       "      <th>Bermuda</th>\n",
       "      <th>...</th>\n",
       "      <th>United Kingdom</th>\n",
       "      <th>United States</th>\n",
       "      <th>Upper middle income</th>\n",
       "      <th>Uruguay</th>\n",
       "      <th>Uzbekistan</th>\n",
       "      <th>Vietnam</th>\n",
       "      <th>West Bank and Gaza</th>\n",
       "      <th>World</th>\n",
       "      <th>Zambia</th>\n",
       "      <th>Zimbabwe</th>\n",
       "    </tr>\n",
       "  </thead>\n",
       "  <tbody>\n",
       "    <tr>\n",
       "      <th>Population</th>\n",
       "      <td>8.994793e+06</td>\n",
       "      <td>1.112489e+07</td>\n",
       "      <td>1.027648e+07</td>\n",
       "      <td>7.047539e+06</td>\n",
       "      <td>1.095260e+05</td>\n",
       "      <td>4.820070e+07</td>\n",
       "      <td>9.153489e+06</td>\n",
       "      <td>9.206800e+04</td>\n",
       "      <td>2.431620e+06</td>\n",
       "      <td>4.440000e+04</td>\n",
       "      <td>...</td>\n",
       "      <td>6.513823e+07</td>\n",
       "      <td>3.214188e+08</td>\n",
       "      <td>2.550326e+09</td>\n",
       "      <td>3.431555e+06</td>\n",
       "      <td>3.129950e+07</td>\n",
       "      <td>9.170380e+07</td>\n",
       "      <td>4.422143e+06</td>\n",
       "      <td>7.346633e+09</td>\n",
       "      <td>1.621177e+07</td>\n",
       "      <td>1.560275e+07</td>\n",
       "    </tr>\n",
       "    <tr>\n",
       "      <th>GDP</th>\n",
       "      <td>5.377778e+08</td>\n",
       "      <td>2.723638e+09</td>\n",
       "      <td>1.856759e+10</td>\n",
       "      <td>6.592694e+09</td>\n",
       "      <td>1.698023e+08</td>\n",
       "      <td>4.274894e+09</td>\n",
       "      <td>1.165872e+10</td>\n",
       "      <td>2.807248e+07</td>\n",
       "      <td>2.261956e+08</td>\n",
       "      <td>8.446665e+07</td>\n",
       "      <td>...</td>\n",
       "      <td>2.848755e+12</td>\n",
       "      <td>1.794700e+13</td>\n",
       "      <td>1.973288e+13</td>\n",
       "      <td>5.344270e+10</td>\n",
       "      <td>6.673280e+10</td>\n",
       "      <td>1.935994e+11</td>\n",
       "      <td>1.267740e+10</td>\n",
       "      <td>7.343364e+13</td>\n",
       "      <td>2.120156e+10</td>\n",
       "      <td>1.389294e+10</td>\n",
       "    </tr>\n",
       "  </tbody>\n",
       "</table>\n",
       "<p>2 rows × 11211 columns</p>\n",
       "</div>"
      ],
      "text/plain": [
       "year                1960                                            \\\n",
       "country      Afghanistan       Algeria     Australia       Austria   \n",
       "Population  8.994793e+06  1.112489e+07  1.027648e+07  7.047539e+06   \n",
       "GDP         5.377778e+08  2.723638e+09  1.856759e+10  6.592694e+09   \n",
       "\n",
       "year                                                                \\\n",
       "country     Bahamas, The    Bangladesh       Belgium        Belize   \n",
       "Population  1.095260e+05  4.820070e+07  9.153489e+06  9.206800e+04   \n",
       "GDP         1.698023e+08  4.274894e+09  1.165872e+10  2.807248e+07   \n",
       "\n",
       "year                                    ...           2015                \\\n",
       "country            Benin       Bermuda  ... United Kingdom United States   \n",
       "Population  2.431620e+06  4.440000e+04  ...   6.513823e+07  3.214188e+08   \n",
       "GDP         2.261956e+08  8.446665e+07  ...   2.848755e+12  1.794700e+13   \n",
       "\n",
       "year                                                                      \\\n",
       "country    Upper middle income       Uruguay    Uzbekistan       Vietnam   \n",
       "Population        2.550326e+09  3.431555e+06  3.129950e+07  9.170380e+07   \n",
       "GDP               1.973288e+13  5.344270e+10  6.673280e+10  1.935994e+11   \n",
       "\n",
       "year                                                                     \n",
       "country    West Bank and Gaza         World        Zambia      Zimbabwe  \n",
       "Population       4.422143e+06  7.346633e+09  1.621177e+07  1.560275e+07  \n",
       "GDP              1.267740e+10  7.343364e+13  2.120156e+10  1.389294e+10  \n",
       "\n",
       "[2 rows x 11211 columns]"
      ]
     },
     "execution_count": 34,
     "metadata": {},
     "output_type": "execute_result"
    }
   ],
   "source": [
    "world_stats.unstack()\n",
    "world_stats.unstack().columns\n",
    "world_stats.unstack().unstack().columns\n",
    "\n",
    "world_stats.unstack(level = 0)\n",
    "world_stats.unstack(level = 'year')\n",
    "world_stats.unstack(level = 1)\n",
    "world_stats.unstack(level = 'country')\n",
    "world_stats.unstack(level = 2)\n",
    "\n",
    "world_stats.unstack(level = -3)\n",
    "\n",
    "world_stats.unstack([1, 0])\n",
    "world_stats.unstack([0, 1])"
   ]
  },
  {
   "cell_type": "code",
   "execution_count": null,
   "id": "767061fa-8c2f-451b-997a-d7934873af81",
   "metadata": {},
   "outputs": [],
   "source": []
  }
 ],
 "metadata": {
  "kernelspec": {
   "display_name": "Python 3 (ipykernel)",
   "language": "python",
   "name": "python3"
  },
  "language_info": {
   "codemirror_mode": {
    "name": "ipython",
    "version": 3
   },
   "file_extension": ".py",
   "mimetype": "text/x-python",
   "name": "python",
   "nbconvert_exporter": "python",
   "pygments_lexer": "ipython3",
   "version": "3.13.2"
  }
 },
 "nbformat": 4,
 "nbformat_minor": 5
}
