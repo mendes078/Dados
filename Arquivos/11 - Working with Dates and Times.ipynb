{
 "cells": [
  {
   "cell_type": "code",
   "execution_count": 1,
   "id": "cb969887-b8f5-48fc-9585-cfcbfca3e54c",
   "metadata": {},
   "outputs": [],
   "source": [
    "import pandas as pd\n",
    "import datetime as dt"
   ]
  },
  {
   "cell_type": "code",
   "execution_count": 2,
   "id": "91e9c399-5fdf-4d4e-937f-d4293e4c9f0d",
   "metadata": {},
   "outputs": [
    {
     "data": {
      "text/plain": [
       "15"
      ]
     },
     "execution_count": 2,
     "metadata": {},
     "output_type": "execute_result"
    }
   ],
   "source": [
    "someday = dt.date(2025, 12, 15)\n",
    "\n",
    "someday.year\n",
    "someday.month\n",
    "someday.day"
   ]
  },
  {
   "cell_type": "code",
   "execution_count": 3,
   "id": "c55ebfdb-b23b-4b7a-86d1-a3297c800365",
   "metadata": {},
   "outputs": [
    {
     "data": {
      "text/plain": [
       "20"
      ]
     },
     "execution_count": 3,
     "metadata": {},
     "output_type": "execute_result"
    }
   ],
   "source": [
    "dt.datetime(2025, 12, 15)\n",
    "dt.datetime(2025, 12, 15, 8)\n",
    "dt.datetime(2025, 12, 15, 8, 35)\n",
    "dt.datetime(2025, 12, 15, 8, 35, 20)\n",
    "\n",
    "sometime = dt.datetime(2025, 12, 15, 8, 35, 20)\n",
    "sometime.year\n",
    "sometime.month\n",
    "sometime.day\n",
    "sometime.hour\n",
    "sometime.minute\n",
    "sometime.second"
   ]
  },
  {
   "cell_type": "code",
   "execution_count": 4,
   "id": "f23529b3-d282-40b0-a6b8-a280a41b0b68",
   "metadata": {},
   "outputs": [
    {
     "data": {
      "text/plain": [
       "Timestamp('2025-07-10 00:00:00')"
      ]
     },
     "execution_count": 4,
     "metadata": {},
     "output_type": "execute_result"
    }
   ],
   "source": [
    "pd.Timestamp(2025, 4, 5)\n",
    "pd.Timestamp(2025, 4, 5, 18)\n",
    "pd.Timestamp(2025, 4, 5, 18, 23)\n",
    "pd.Timestamp(2025, 4, 5, 18, 23, 45)\n",
    "pd.Timestamp(dt.datetime(2025, 12, 4, 14, 35, 26))\n",
    "pd.Timestamp(\"2025-01-01\")\n",
    "pd.Timestamp(\"2025/01/01\")\n",
    "\n",
    "pd.Series([pd.Timestamp(\"2025/01/01\")]).iloc[0]\n",
    "\n",
    "pd.DatetimeIndex([\"2025-01-02\", \"2025-02-03\"])\n",
    "index = pd.DatetimeIndex([\n",
    "    dt.date(2025, 7, 10),\n",
    "    dt.date(2024, 7, 10)\n",
    "])\n",
    "\n",
    "index[0]"
   ]
  },
  {
   "cell_type": "code",
   "execution_count": 5,
   "id": "0aa32743-3817-4586-bbb7-23040779bf05",
   "metadata": {},
   "outputs": [
    {
     "name": "stderr",
     "output_type": "stream",
     "text": [
      "C:\\Users\\kaike\\AppData\\Local\\Temp\\ipykernel_9208\\1802617663.py:9: FutureWarning: 'H' is deprecated and will be removed in a future version, please use 'h' instead.\n",
      "  pd.date_range(start = \"2025-01-01\", end = \"2025-01-31\", freq = \"H\")\n",
      "C:\\Users\\kaike\\AppData\\Local\\Temp\\ipykernel_9208\\1802617663.py:10: FutureWarning: 'H' is deprecated and will be removed in a future version, please use 'h' instead.\n",
      "  pd.date_range(start = \"2025-01-01\", end = \"2025-01-31\", freq = \"6H\")\n",
      "C:\\Users\\kaike\\AppData\\Local\\Temp\\ipykernel_9208\\1802617663.py:11: FutureWarning: 'M' is deprecated and will be removed in a future version, please use 'ME' instead.\n",
      "  pd.date_range(start = \"2025-01-01\", end = \"2025-12-31\", freq = \"M\")\n",
      "C:\\Users\\kaike\\AppData\\Local\\Temp\\ipykernel_9208\\1802617663.py:12: FutureWarning: 'A' is deprecated and will be removed in a future version, please use 'YE' instead.\n",
      "  pd.date_range(start = \"2025-01-01\", end = \"2026-01-31\", freq = \"A\")\n"
     ]
    },
    {
     "data": {
      "text/plain": [
       "DatetimeIndex(['2012-12-13', '2012-12-14', '2012-12-15', '2012-12-16',\n",
       "               '2012-12-17', '2012-12-18', '2012-12-19', '2012-12-20',\n",
       "               '2012-12-21', '2012-12-22', '2012-12-23', '2012-12-24',\n",
       "               '2012-12-25', '2012-12-26', '2012-12-27', '2012-12-28',\n",
       "               '2012-12-29', '2012-12-30', '2012-12-31', '2013-01-01'],\n",
       "              dtype='datetime64[ns]', freq='D')"
      ]
     },
     "execution_count": 5,
     "metadata": {},
     "output_type": "execute_result"
    }
   ],
   "source": [
    "pd.date_range(start = \"2025-01-01\", end = \"2025-01-07\")\n",
    "pd.date_range(start = \"2025-01-01\", end = \"2025-01-07\", freq = \"D\")\n",
    "pd.date_range(start = \"2025-01-01\", end = \"2025-01-07\", freq = \"2D\")\n",
    "pd.date_range(start = \"2025-01-01\", end = \"2025-01-07\", freq = \"B\")\n",
    "pd.date_range(start = \"2025-01-01\", end = \"2025-01-31\", freq = \"W\")\n",
    "pd.date_range(start = \"2025-01-01\", end = \"2025-01-31\", freq = \"W-FRI\")\n",
    "pd.date_range(start = \"2025-01-01\", end = \"2025-01-31\", freq = \"W-THU\")\n",
    "\n",
    "pd.date_range(start = \"2025-01-01\", end = \"2025-01-31\", freq = \"H\")\n",
    "pd.date_range(start = \"2025-01-01\", end = \"2025-01-31\", freq = \"6H\")\n",
    "pd.date_range(start = \"2025-01-01\", end = \"2025-12-31\", freq = \"M\")\n",
    "pd.date_range(start = \"2025-01-01\", end = \"2026-01-31\", freq = \"A\")\n",
    "\n",
    "pd.date_range(start = \"2025-01-01\", freq = \"D\", periods = 25)\n",
    "\n",
    "pd.date_range(end = \"2013-01-01\", freq = \"D\", periods = 20)"
   ]
  },
  {
   "cell_type": "code",
   "execution_count": 24,
   "id": "4aa1a6d8-095c-440a-88ba-0b38511e5aac",
   "metadata": {},
   "outputs": [
    {
     "name": "stderr",
     "output_type": "stream",
     "text": [
      "C:\\Users\\kaike\\AppData\\Local\\Temp\\ipykernel_9208\\1253359825.py:1: FutureWarning: 'H' is deprecated and will be removed in a future version, please use 'h' instead.\n",
      "  pd.date_range(start = \"2000-01-01\", end = \"2020-12-31\", freq = \"24D 3H\")\n",
      "C:\\Users\\kaike\\AppData\\Local\\Temp\\ipykernel_9208\\1253359825.py:2: FutureWarning: 'H' is deprecated and will be removed in a future version, please use 'h' instead.\n",
      "  bunch_of_dates = pd.Series(pd.date_range(start = \"2000-01-01\", end = \"2020-12-31\", freq = \"24D 3H\"))\n"
     ]
    },
    {
     "data": {
      "text/plain": [
       "0      False\n",
       "1      False\n",
       "2      False\n",
       "3      False\n",
       "4      False\n",
       "       ...  \n",
       "313    False\n",
       "314    False\n",
       "315    False\n",
       "316    False\n",
       "317    False\n",
       "Length: 318, dtype: bool"
      ]
     },
     "execution_count": 24,
     "metadata": {},
     "output_type": "execute_result"
    }
   ],
   "source": [
    "pd.date_range(start = \"2000-01-01\", end = \"2020-12-31\", freq = \"24D 3H\")\n",
    "bunch_of_dates = pd.Series(pd.date_range(start = \"2000-01-01\", end = \"2020-12-31\", freq = \"24D 3H\"))\n",
    "\n",
    "bunch_of_dates.dt.day\n",
    "bunch_of_dates.dt.month\n",
    "bunch_of_dates.dt.year\n",
    "bunch_of_dates.dt.hour\n",
    "\n",
    "bunch_of_dates.dt.day_of_year\n",
    "bunch_of_dates.dt.day_name()\n",
    "\n",
    "bunch_of_dates.dt.is_month_end\n",
    "bunch_of_dates.dt.is_month_start\n",
    "\n",
    "bunch_of_dates.dt.is_quarter_start\n",
    "bunch_of_dates.dt.is_quarter_end"
   ]
  },
  {
   "cell_type": "code",
   "execution_count": 42,
   "id": "e826bdaa-5802-427d-94b8-d37774784ef3",
   "metadata": {},
   "outputs": [
    {
     "ename": "DateParseError",
     "evalue": "Unknown datetime string format, unable to parse: Closing, at position 0",
     "output_type": "error",
     "traceback": [
      "\u001b[31m---------------------------------------------------------------------------\u001b[39m",
      "\u001b[31mDateParseError\u001b[39m                            Traceback (most recent call last)",
      "\u001b[36mCell\u001b[39m\u001b[36m \u001b[39m\u001b[32mIn[42]\u001b[39m\u001b[32m, line 7\u001b[39m\n\u001b[32m      5\u001b[39m stocks.loc[\u001b[33m\"\u001b[39m\u001b[33m2014-03-04\u001b[39m\u001b[33m\"\u001b[39m:\u001b[33m\"\u001b[39m\u001b[33m2014-05-12\u001b[39m\u001b[33m\"\u001b[39m]\n\u001b[32m      6\u001b[39m stocks.loc[pd.Timestamp(\u001b[32m2014\u001b[39m, \u001b[32m3\u001b[39m, \u001b[32m4\u001b[39m):pd.Timestamp(\u001b[32m2014\u001b[39m, \u001b[32m5\u001b[39m, \u001b[32m12\u001b[39m)]\n\u001b[32m----> \u001b[39m\u001b[32m7\u001b[39m \u001b[43mstocks\u001b[49m\u001b[43m.\u001b[49m\u001b[43mtruncate\u001b[49m\u001b[43m(\u001b[49m\u001b[33;43m\"\u001b[39;49m\u001b[33;43m2014-03-04\u001b[39;49m\u001b[33;43m\"\u001b[39;49m\u001b[43m,\u001b[49m\u001b[43m \u001b[49m\u001b[33;43m\"\u001b[39;49m\u001b[33;43mClosing\u001b[39;49m\u001b[33;43m\"\u001b[39;49m\u001b[43m)\u001b[49m\n",
      "\u001b[36mFile \u001b[39m\u001b[32m~\\AppData\\Local\\Programs\\Python\\Python313\\Lib\\site-packages\\pandas\\core\\generic.py:11425\u001b[39m, in \u001b[36mNDFrame.truncate\u001b[39m\u001b[34m(self, before, after, axis, copy)\u001b[39m\n\u001b[32m  11422\u001b[39m     \u001b[38;5;28;01mfrom\u001b[39;00m\u001b[38;5;250m \u001b[39m\u001b[34;01mpandas\u001b[39;00m\u001b[34;01m.\u001b[39;00m\u001b[34;01mcore\u001b[39;00m\u001b[34;01m.\u001b[39;00m\u001b[34;01mtools\u001b[39;00m\u001b[34;01m.\u001b[39;00m\u001b[34;01mdatetimes\u001b[39;00m\u001b[38;5;250m \u001b[39m\u001b[38;5;28;01mimport\u001b[39;00m to_datetime\n\u001b[32m  11424\u001b[39m     before = to_datetime(before)\n\u001b[32m> \u001b[39m\u001b[32m11425\u001b[39m     after = \u001b[43mto_datetime\u001b[49m\u001b[43m(\u001b[49m\u001b[43mafter\u001b[49m\u001b[43m)\u001b[49m\n\u001b[32m  11427\u001b[39m \u001b[38;5;28;01mif\u001b[39;00m before \u001b[38;5;129;01mis\u001b[39;00m \u001b[38;5;129;01mnot\u001b[39;00m \u001b[38;5;28;01mNone\u001b[39;00m \u001b[38;5;129;01mand\u001b[39;00m after \u001b[38;5;129;01mis\u001b[39;00m \u001b[38;5;129;01mnot\u001b[39;00m \u001b[38;5;28;01mNone\u001b[39;00m \u001b[38;5;129;01mand\u001b[39;00m before > after:\n\u001b[32m  11428\u001b[39m     \u001b[38;5;28;01mraise\u001b[39;00m \u001b[38;5;167;01mValueError\u001b[39;00m(\u001b[33mf\u001b[39m\u001b[33m\"\u001b[39m\u001b[33mTruncate: \u001b[39m\u001b[38;5;132;01m{\u001b[39;00mafter\u001b[38;5;132;01m}\u001b[39;00m\u001b[33m must be after \u001b[39m\u001b[38;5;132;01m{\u001b[39;00mbefore\u001b[38;5;132;01m}\u001b[39;00m\u001b[33m\"\u001b[39m)\n",
      "\u001b[36mFile \u001b[39m\u001b[32m~\\AppData\\Local\\Programs\\Python\\Python313\\Lib\\site-packages\\pandas\\core\\tools\\datetimes.py:1101\u001b[39m, in \u001b[36mto_datetime\u001b[39m\u001b[34m(arg, errors, dayfirst, yearfirst, utc, format, exact, unit, infer_datetime_format, origin, cache)\u001b[39m\n\u001b[32m   1099\u001b[39m         result = convert_listlike(argc, \u001b[38;5;28mformat\u001b[39m)\n\u001b[32m   1100\u001b[39m \u001b[38;5;28;01melse\u001b[39;00m:\n\u001b[32m-> \u001b[39m\u001b[32m1101\u001b[39m     result = \u001b[43mconvert_listlike\u001b[49m\u001b[43m(\u001b[49m\u001b[43mnp\u001b[49m\u001b[43m.\u001b[49m\u001b[43marray\u001b[49m\u001b[43m(\u001b[49m\u001b[43m[\u001b[49m\u001b[43marg\u001b[49m\u001b[43m]\u001b[49m\u001b[43m)\u001b[49m\u001b[43m,\u001b[49m\u001b[43m \u001b[49m\u001b[38;5;28;43mformat\u001b[39;49m\u001b[43m)\u001b[49m[\u001b[32m0\u001b[39m]\n\u001b[32m   1102\u001b[39m     \u001b[38;5;28;01mif\u001b[39;00m \u001b[38;5;28misinstance\u001b[39m(arg, \u001b[38;5;28mbool\u001b[39m) \u001b[38;5;129;01mand\u001b[39;00m \u001b[38;5;28misinstance\u001b[39m(result, np.bool_):\n\u001b[32m   1103\u001b[39m         result = \u001b[38;5;28mbool\u001b[39m(result)  \u001b[38;5;66;03m# TODO: avoid this kludge.\u001b[39;00m\n",
      "\u001b[36mFile \u001b[39m\u001b[32m~\\AppData\\Local\\Programs\\Python\\Python313\\Lib\\site-packages\\pandas\\core\\tools\\datetimes.py:435\u001b[39m, in \u001b[36m_convert_listlike_datetimes\u001b[39m\u001b[34m(arg, format, name, utc, unit, errors, dayfirst, yearfirst, exact)\u001b[39m\n\u001b[32m    432\u001b[39m \u001b[38;5;28;01mif\u001b[39;00m \u001b[38;5;28mformat\u001b[39m \u001b[38;5;129;01mis\u001b[39;00m \u001b[38;5;129;01mnot\u001b[39;00m \u001b[38;5;28;01mNone\u001b[39;00m \u001b[38;5;129;01mand\u001b[39;00m \u001b[38;5;28mformat\u001b[39m != \u001b[33m\"\u001b[39m\u001b[33mmixed\u001b[39m\u001b[33m\"\u001b[39m:\n\u001b[32m    433\u001b[39m     \u001b[38;5;28;01mreturn\u001b[39;00m _array_strptime_with_fallback(arg, name, utc, \u001b[38;5;28mformat\u001b[39m, exact, errors)\n\u001b[32m--> \u001b[39m\u001b[32m435\u001b[39m result, tz_parsed = \u001b[43mobjects_to_datetime64\u001b[49m\u001b[43m(\u001b[49m\n\u001b[32m    436\u001b[39m \u001b[43m    \u001b[49m\u001b[43marg\u001b[49m\u001b[43m,\u001b[49m\n\u001b[32m    437\u001b[39m \u001b[43m    \u001b[49m\u001b[43mdayfirst\u001b[49m\u001b[43m=\u001b[49m\u001b[43mdayfirst\u001b[49m\u001b[43m,\u001b[49m\n\u001b[32m    438\u001b[39m \u001b[43m    \u001b[49m\u001b[43myearfirst\u001b[49m\u001b[43m=\u001b[49m\u001b[43myearfirst\u001b[49m\u001b[43m,\u001b[49m\n\u001b[32m    439\u001b[39m \u001b[43m    \u001b[49m\u001b[43mutc\u001b[49m\u001b[43m=\u001b[49m\u001b[43mutc\u001b[49m\u001b[43m,\u001b[49m\n\u001b[32m    440\u001b[39m \u001b[43m    \u001b[49m\u001b[43merrors\u001b[49m\u001b[43m=\u001b[49m\u001b[43merrors\u001b[49m\u001b[43m,\u001b[49m\n\u001b[32m    441\u001b[39m \u001b[43m    \u001b[49m\u001b[43mallow_object\u001b[49m\u001b[43m=\u001b[49m\u001b[38;5;28;43;01mTrue\u001b[39;49;00m\u001b[43m,\u001b[49m\n\u001b[32m    442\u001b[39m \u001b[43m\u001b[49m\u001b[43m)\u001b[49m\n\u001b[32m    444\u001b[39m \u001b[38;5;28;01mif\u001b[39;00m tz_parsed \u001b[38;5;129;01mis\u001b[39;00m \u001b[38;5;129;01mnot\u001b[39;00m \u001b[38;5;28;01mNone\u001b[39;00m:\n\u001b[32m    445\u001b[39m     \u001b[38;5;66;03m# We can take a shortcut since the datetime64 numpy array\u001b[39;00m\n\u001b[32m    446\u001b[39m     \u001b[38;5;66;03m# is in UTC\u001b[39;00m\n\u001b[32m    447\u001b[39m     out_unit = np.datetime_data(result.dtype)[\u001b[32m0\u001b[39m]\n",
      "\u001b[36mFile \u001b[39m\u001b[32m~\\AppData\\Local\\Programs\\Python\\Python313\\Lib\\site-packages\\pandas\\core\\arrays\\datetimes.py:2398\u001b[39m, in \u001b[36mobjects_to_datetime64\u001b[39m\u001b[34m(data, dayfirst, yearfirst, utc, errors, allow_object, out_unit)\u001b[39m\n\u001b[32m   2395\u001b[39m \u001b[38;5;66;03m# if str-dtype, convert\u001b[39;00m\n\u001b[32m   2396\u001b[39m data = np.asarray(data, dtype=np.object_)\n\u001b[32m-> \u001b[39m\u001b[32m2398\u001b[39m result, tz_parsed = \u001b[43mtslib\u001b[49m\u001b[43m.\u001b[49m\u001b[43marray_to_datetime\u001b[49m\u001b[43m(\u001b[49m\n\u001b[32m   2399\u001b[39m \u001b[43m    \u001b[49m\u001b[43mdata\u001b[49m\u001b[43m,\u001b[49m\n\u001b[32m   2400\u001b[39m \u001b[43m    \u001b[49m\u001b[43merrors\u001b[49m\u001b[43m=\u001b[49m\u001b[43merrors\u001b[49m\u001b[43m,\u001b[49m\n\u001b[32m   2401\u001b[39m \u001b[43m    \u001b[49m\u001b[43mutc\u001b[49m\u001b[43m=\u001b[49m\u001b[43mutc\u001b[49m\u001b[43m,\u001b[49m\n\u001b[32m   2402\u001b[39m \u001b[43m    \u001b[49m\u001b[43mdayfirst\u001b[49m\u001b[43m=\u001b[49m\u001b[43mdayfirst\u001b[49m\u001b[43m,\u001b[49m\n\u001b[32m   2403\u001b[39m \u001b[43m    \u001b[49m\u001b[43myearfirst\u001b[49m\u001b[43m=\u001b[49m\u001b[43myearfirst\u001b[49m\u001b[43m,\u001b[49m\n\u001b[32m   2404\u001b[39m \u001b[43m    \u001b[49m\u001b[43mcreso\u001b[49m\u001b[43m=\u001b[49m\u001b[43mabbrev_to_npy_unit\u001b[49m\u001b[43m(\u001b[49m\u001b[43mout_unit\u001b[49m\u001b[43m)\u001b[49m\u001b[43m,\u001b[49m\n\u001b[32m   2405\u001b[39m \u001b[43m\u001b[49m\u001b[43m)\u001b[49m\n\u001b[32m   2407\u001b[39m \u001b[38;5;28;01mif\u001b[39;00m tz_parsed \u001b[38;5;129;01mis\u001b[39;00m \u001b[38;5;129;01mnot\u001b[39;00m \u001b[38;5;28;01mNone\u001b[39;00m:\n\u001b[32m   2408\u001b[39m     \u001b[38;5;66;03m# We can take a shortcut since the datetime64 numpy array\u001b[39;00m\n\u001b[32m   2409\u001b[39m     \u001b[38;5;66;03m#  is in UTC\u001b[39;00m\n\u001b[32m   2410\u001b[39m     \u001b[38;5;28;01mreturn\u001b[39;00m result, tz_parsed\n",
      "\u001b[36mFile \u001b[39m\u001b[32mtslib.pyx:414\u001b[39m, in \u001b[36mpandas._libs.tslib.array_to_datetime\u001b[39m\u001b[34m()\u001b[39m\n",
      "\u001b[36mFile \u001b[39m\u001b[32mtslib.pyx:596\u001b[39m, in \u001b[36mpandas._libs.tslib.array_to_datetime\u001b[39m\u001b[34m()\u001b[39m\n",
      "\u001b[36mFile \u001b[39m\u001b[32mtslib.pyx:553\u001b[39m, in \u001b[36mpandas._libs.tslib.array_to_datetime\u001b[39m\u001b[34m()\u001b[39m\n",
      "\u001b[36mFile \u001b[39m\u001b[32mconversion.pyx:641\u001b[39m, in \u001b[36mpandas._libs.tslibs.conversion.convert_str_to_tsobject\u001b[39m\u001b[34m()\u001b[39m\n",
      "\u001b[36mFile \u001b[39m\u001b[32mparsing.pyx:336\u001b[39m, in \u001b[36mpandas._libs.tslibs.parsing.parse_datetime_string\u001b[39m\u001b[34m()\u001b[39m\n",
      "\u001b[36mFile \u001b[39m\u001b[32mparsing.pyx:666\u001b[39m, in \u001b[36mpandas._libs.tslibs.parsing.dateutil_parse\u001b[39m\u001b[34m()\u001b[39m\n",
      "\u001b[31mDateParseError\u001b[39m: Unknown datetime string format, unable to parse: Closing, at position 0"
     ]
    }
   ],
   "source": [
    "stocks = pd.read_csv(\"ibm.csv\", parse_dates = [\"Date\"], index_col = \"Date\").sort_index()\n",
    "\n",
    "stocks.loc[\"2014-03-04\"]\n",
    "stocks.loc[pd.Timestamp(2014, 3, 4)]\n",
    "stocks.loc[\"2014-03-04\":\"2014-05-12\"]\n",
    "stocks.loc[pd.Timestamp(2014, 3, 4):pd.Timestamp(2014, 5, 12)]\n",
    "stocks.truncate(\"2014-03-04\", \"Closing\")"
   ]
  },
  {
   "cell_type": "code",
   "execution_count": null,
   "id": "a78c153e-5f4c-44a2-883d-5c76ba91627a",
   "metadata": {},
   "outputs": [],
   "source": []
  }
 ],
 "metadata": {
  "kernelspec": {
   "display_name": "Python 3 (ipykernel)",
   "language": "python",
   "name": "python3"
  },
  "language_info": {
   "codemirror_mode": {
    "name": "ipython",
    "version": 3
   },
   "file_extension": ".py",
   "mimetype": "text/x-python",
   "name": "python",
   "nbconvert_exporter": "python",
   "pygments_lexer": "ipython3",
   "version": "3.13.2"
  }
 },
 "nbformat": 4,
 "nbformat_minor": 5
}
