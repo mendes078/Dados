{
 "cells": [
  {
   "cell_type": "code",
   "execution_count": 2,
   "id": "cb969887-b8f5-48fc-9585-cfcbfca3e54c",
   "metadata": {},
   "outputs": [],
   "source": [
    "import pandas as pd\n",
    "import datetime as dt"
   ]
  },
  {
   "cell_type": "code",
   "execution_count": 8,
   "id": "91e9c399-5fdf-4d4e-937f-d4293e4c9f0d",
   "metadata": {},
   "outputs": [
    {
     "data": {
      "text/plain": [
       "15"
      ]
     },
     "execution_count": 8,
     "metadata": {},
     "output_type": "execute_result"
    }
   ],
   "source": [
    "someday = dt.date(2025, 12, 15)\n",
    "\n",
    "someday.year\n",
    "someday.month\n",
    "someday.day"
   ]
  },
  {
   "cell_type": "code",
   "execution_count": 15,
   "id": "c55ebfdb-b23b-4b7a-86d1-a3297c800365",
   "metadata": {},
   "outputs": [
    {
     "data": {
      "text/plain": [
       "20"
      ]
     },
     "execution_count": 15,
     "metadata": {},
     "output_type": "execute_result"
    }
   ],
   "source": [
    "dt.datetime(2025, 12, 15)\n",
    "dt.datetime(2025, 12, 15, 8)\n",
    "dt.datetime(2025, 12, 15, 8, 35)\n",
    "dt.datetime(2025, 12, 15, 8, 35, 20)\n",
    "\n",
    "sometime = dt.datetime(2025, 12, 15, 8, 35, 20)\n",
    "sometime.year\n",
    "sometime.month\n",
    "sometime.day\n",
    "sometime.hour\n",
    "sometime.minute\n",
    "sometime.second"
   ]
  },
  {
   "cell_type": "code",
   "execution_count": 31,
   "id": "f23529b3-d282-40b0-a6b8-a280a41b0b68",
   "metadata": {},
   "outputs": [
    {
     "data": {
      "text/plain": [
       "Timestamp('2025-07-10 00:00:00')"
      ]
     },
     "execution_count": 31,
     "metadata": {},
     "output_type": "execute_result"
    }
   ],
   "source": [
    "pd.Timestamp(2025, 4, 5)\n",
    "pd.Timestamp(2025, 4, 5, 18)\n",
    "pd.Timestamp(2025, 4, 5, 18, 23)\n",
    "pd.Timestamp(2025, 4, 5, 18, 23, 45)\n",
    "pd.Timestamp(dt.datetime(2025, 12, 4, 14, 35, 26))\n",
    "pd.Timestamp(\"2025-01-01\")\n",
    "pd.Timestamp(\"2025/01/01\")\n",
    "\n",
    "pd.Series([pd.Timestamp(\"2025/01/01\")]).iloc[0]\n",
    "\n",
    "pd.DatetimeIndex([\"2025-01-02\", \"2025-02-03\"])\n",
    "index = pd.DatetimeIndex([\n",
    "    dt.date(2025, 7, 10),\n",
    "    dt.date(2024, 7, 10)\n",
    "])\n",
    "\n",
    "index[0]"
   ]
  },
  {
   "cell_type": "code",
   "execution_count": null,
   "id": "0aa32743-3817-4586-bbb7-23040779bf05",
   "metadata": {},
   "outputs": [],
   "source": []
  }
 ],
 "metadata": {
  "kernelspec": {
   "display_name": "Python 3 (ipykernel)",
   "language": "python",
   "name": "python3"
  },
  "language_info": {
   "codemirror_mode": {
    "name": "ipython",
    "version": 3
   },
   "file_extension": ".py",
   "mimetype": "text/x-python",
   "name": "python",
   "nbconvert_exporter": "python",
   "pygments_lexer": "ipython3",
   "version": "3.13.2"
  }
 },
 "nbformat": 4,
 "nbformat_minor": 5
}
