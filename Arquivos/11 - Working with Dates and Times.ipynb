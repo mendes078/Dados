{
 "cells": [
  {
   "cell_type": "code",
   "execution_count": 1,
   "id": "cb969887-b8f5-48fc-9585-cfcbfca3e54c",
   "metadata": {},
   "outputs": [],
   "source": [
    "import pandas as pd\n",
    "import datetime as dt"
   ]
  },
  {
   "cell_type": "code",
   "execution_count": 2,
   "id": "91e9c399-5fdf-4d4e-937f-d4293e4c9f0d",
   "metadata": {},
   "outputs": [
    {
     "data": {
      "text/plain": [
       "15"
      ]
     },
     "execution_count": 2,
     "metadata": {},
     "output_type": "execute_result"
    }
   ],
   "source": [
    "someday = dt.date(2025, 12, 15)\n",
    "\n",
    "someday.year\n",
    "someday.month\n",
    "someday.day"
   ]
  },
  {
   "cell_type": "code",
   "execution_count": 3,
   "id": "c55ebfdb-b23b-4b7a-86d1-a3297c800365",
   "metadata": {},
   "outputs": [
    {
     "data": {
      "text/plain": [
       "20"
      ]
     },
     "execution_count": 3,
     "metadata": {},
     "output_type": "execute_result"
    }
   ],
   "source": [
    "dt.datetime(2025, 12, 15)\n",
    "dt.datetime(2025, 12, 15, 8)\n",
    "dt.datetime(2025, 12, 15, 8, 35)\n",
    "dt.datetime(2025, 12, 15, 8, 35, 20)\n",
    "\n",
    "sometime = dt.datetime(2025, 12, 15, 8, 35, 20)\n",
    "sometime.year\n",
    "sometime.month\n",
    "sometime.day\n",
    "sometime.hour\n",
    "sometime.minute\n",
    "sometime.second"
   ]
  },
  {
   "cell_type": "code",
   "execution_count": 4,
   "id": "f23529b3-d282-40b0-a6b8-a280a41b0b68",
   "metadata": {},
   "outputs": [
    {
     "data": {
      "text/plain": [
       "Timestamp('2025-07-10 00:00:00')"
      ]
     },
     "execution_count": 4,
     "metadata": {},
     "output_type": "execute_result"
    }
   ],
   "source": [
    "pd.Timestamp(2025, 4, 5)\n",
    "pd.Timestamp(2025, 4, 5, 18)\n",
    "pd.Timestamp(2025, 4, 5, 18, 23)\n",
    "pd.Timestamp(2025, 4, 5, 18, 23, 45)\n",
    "pd.Timestamp(dt.datetime(2025, 12, 4, 14, 35, 26))\n",
    "pd.Timestamp(\"2025-01-01\")\n",
    "pd.Timestamp(\"2025/01/01\")\n",
    "\n",
    "pd.Series([pd.Timestamp(\"2025/01/01\")]).iloc[0]\n",
    "\n",
    "pd.DatetimeIndex([\"2025-01-02\", \"2025-02-03\"])\n",
    "index = pd.DatetimeIndex([\n",
    "    dt.date(2025, 7, 10),\n",
    "    dt.date(2024, 7, 10)\n",
    "])\n",
    "\n",
    "index[0]"
   ]
  },
  {
   "cell_type": "code",
   "execution_count": 25,
   "id": "0aa32743-3817-4586-bbb7-23040779bf05",
   "metadata": {},
   "outputs": [
    {
     "name": "stderr",
     "output_type": "stream",
     "text": [
      "C:\\Users\\kaike\\AppData\\Local\\Temp\\ipykernel_9688\\1802617663.py:9: FutureWarning: 'H' is deprecated and will be removed in a future version, please use 'h' instead.\n",
      "  pd.date_range(start = \"2025-01-01\", end = \"2025-01-31\", freq = \"H\")\n",
      "C:\\Users\\kaike\\AppData\\Local\\Temp\\ipykernel_9688\\1802617663.py:10: FutureWarning: 'H' is deprecated and will be removed in a future version, please use 'h' instead.\n",
      "  pd.date_range(start = \"2025-01-01\", end = \"2025-01-31\", freq = \"6H\")\n",
      "C:\\Users\\kaike\\AppData\\Local\\Temp\\ipykernel_9688\\1802617663.py:11: FutureWarning: 'M' is deprecated and will be removed in a future version, please use 'ME' instead.\n",
      "  pd.date_range(start = \"2025-01-01\", end = \"2025-12-31\", freq = \"M\")\n",
      "C:\\Users\\kaike\\AppData\\Local\\Temp\\ipykernel_9688\\1802617663.py:12: FutureWarning: 'A' is deprecated and will be removed in a future version, please use 'YE' instead.\n",
      "  pd.date_range(start = \"2025-01-01\", end = \"2026-01-31\", freq = \"A\")\n"
     ]
    },
    {
     "data": {
      "text/plain": [
       "DatetimeIndex(['2012-12-13', '2012-12-14', '2012-12-15', '2012-12-16',\n",
       "               '2012-12-17', '2012-12-18', '2012-12-19', '2012-12-20',\n",
       "               '2012-12-21', '2012-12-22', '2012-12-23', '2012-12-24',\n",
       "               '2012-12-25', '2012-12-26', '2012-12-27', '2012-12-28',\n",
       "               '2012-12-29', '2012-12-30', '2012-12-31', '2013-01-01'],\n",
       "              dtype='datetime64[ns]', freq='D')"
      ]
     },
     "execution_count": 25,
     "metadata": {},
     "output_type": "execute_result"
    }
   ],
   "source": [
    "pd.date_range(start = \"2025-01-01\", end = \"2025-01-07\")\n",
    "pd.date_range(start = \"2025-01-01\", end = \"2025-01-07\", freq = \"D\")\n",
    "pd.date_range(start = \"2025-01-01\", end = \"2025-01-07\", freq = \"2D\")\n",
    "pd.date_range(start = \"2025-01-01\", end = \"2025-01-07\", freq = \"B\")\n",
    "pd.date_range(start = \"2025-01-01\", end = \"2025-01-31\", freq = \"W\")\n",
    "pd.date_range(start = \"2025-01-01\", end = \"2025-01-31\", freq = \"W-FRI\")\n",
    "pd.date_range(start = \"2025-01-01\", end = \"2025-01-31\", freq = \"W-THU\")\n",
    "\n",
    "pd.date_range(start = \"2025-01-01\", end = \"2025-01-31\", freq = \"H\")\n",
    "pd.date_range(start = \"2025-01-01\", end = \"2025-01-31\", freq = \"6H\")\n",
    "pd.date_range(start = \"2025-01-01\", end = \"2025-12-31\", freq = \"M\")\n",
    "pd.date_range(start = \"2025-01-01\", end = \"2026-01-31\", freq = \"A\")\n",
    "\n",
    "pd.date_range(start = \"2025-01-01\", freq = \"D\", periods = 25)\n",
    "\n",
    "pd.date_range(end = \"2013-01-01\", freq = \"D\", periods = 20)"
   ]
  },
  {
   "cell_type": "code",
   "execution_count": null,
   "id": "4aa1a6d8-095c-440a-88ba-0b38511e5aac",
   "metadata": {},
   "outputs": [],
   "source": []
  }
 ],
 "metadata": {
  "kernelspec": {
   "display_name": "Python 3 (ipykernel)",
   "language": "python",
   "name": "python3"
  },
  "language_info": {
   "codemirror_mode": {
    "name": "ipython",
    "version": 3
   },
   "file_extension": ".py",
   "mimetype": "text/x-python",
   "name": "python",
   "nbconvert_exporter": "python",
   "pygments_lexer": "ipython3",
   "version": "3.13.2"
  }
 },
 "nbformat": 4,
 "nbformat_minor": 5
}
