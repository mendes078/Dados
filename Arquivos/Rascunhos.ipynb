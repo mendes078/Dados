{
 "cells": [
  {
   "cell_type": "code",
   "execution_count": 1,
   "id": "2d1a501a-dd7f-493f-a66f-cd4ad2afa9ad",
   "metadata": {},
   "outputs": [],
   "source": [
    "import pandas as pd"
   ]
  },
  {
   "cell_type": "code",
   "execution_count": 3,
   "id": "8123dbec-464a-49fb-b5b0-f3c6e633ff62",
   "metadata": {},
   "outputs": [],
   "source": [
    "frutas = {'Nomes': ['Maçã', 'Uva', 'Melão', 'Melancia', 'Morango', 'Tangerina'],\n",
    "          'Região de Origem': ['Ásia Central', 'Oriente Médio', 'Sudoeste da Ásia', 'Nordeste da África', 'Europa', 'Sudeste da Ásia']}\n",
    "df = pd.DataFrame(frutas)"
   ]
  },
  {
   "cell_type": "code",
   "execution_count": 10,
   "id": "1857f6f7-aff6-421d-9f29-f6b502bb6736",
   "metadata": {},
   "outputs": [
    {
     "data": {
      "text/html": [
       "<div>\n",
       "<style scoped>\n",
       "    .dataframe tbody tr th:only-of-type {\n",
       "        vertical-align: middle;\n",
       "    }\n",
       "\n",
       "    .dataframe tbody tr th {\n",
       "        vertical-align: top;\n",
       "    }\n",
       "\n",
       "    .dataframe thead th {\n",
       "        text-align: right;\n",
       "    }\n",
       "</style>\n",
       "<table border=\"1\" class=\"dataframe\">\n",
       "  <thead>\n",
       "    <tr style=\"text-align: right;\">\n",
       "      <th></th>\n",
       "      <th>Nomes</th>\n",
       "      <th>Região de Origem</th>\n",
       "    </tr>\n",
       "  </thead>\n",
       "  <tbody>\n",
       "    <tr>\n",
       "      <th>0</th>\n",
       "      <td>Maçã</td>\n",
       "      <td>Ásia Central</td>\n",
       "    </tr>\n",
       "    <tr>\n",
       "      <th>2</th>\n",
       "      <td>Melão</td>\n",
       "      <td>Sudoeste da Ásia</td>\n",
       "    </tr>\n",
       "    <tr>\n",
       "      <th>5</th>\n",
       "      <td>Tangerina</td>\n",
       "      <td>Sudeste da Ásia</td>\n",
       "    </tr>\n",
       "  </tbody>\n",
       "</table>\n",
       "</div>"
      ],
      "text/plain": [
       "       Nomes  Região de Origem\n",
       "0       Maçã      Ásia Central\n",
       "2      Melão  Sudoeste da Ásia\n",
       "5  Tangerina   Sudeste da Ásia"
      ]
     },
     "execution_count": 10,
     "metadata": {},
     "output_type": "execute_result"
    }
   ],
   "source": [
    "origem_asiática = df[\"Região de Origem\"].str.contains(\"Ásia\")\n",
    "df[origem_asiática]"
   ]
  },
  {
   "cell_type": "code",
   "execution_count": 13,
   "id": "9ea40f22-0c2e-4c0f-b63a-13fbf996f3e3",
   "metadata": {},
   "outputs": [
    {
     "data": {
      "text/html": [
       "<div>\n",
       "<style scoped>\n",
       "    .dataframe tbody tr th:only-of-type {\n",
       "        vertical-align: middle;\n",
       "    }\n",
       "\n",
       "    .dataframe tbody tr th {\n",
       "        vertical-align: top;\n",
       "    }\n",
       "\n",
       "    .dataframe thead th {\n",
       "        text-align: right;\n",
       "    }\n",
       "</style>\n",
       "<table border=\"1\" class=\"dataframe\">\n",
       "  <thead>\n",
       "    <tr style=\"text-align: right;\">\n",
       "      <th></th>\n",
       "      <th>Nomes</th>\n",
       "      <th>Região de Origem</th>\n",
       "    </tr>\n",
       "  </thead>\n",
       "  <tbody>\n",
       "    <tr>\n",
       "      <th>0</th>\n",
       "      <td>Maçã</td>\n",
       "      <td>Ásia Central</td>\n",
       "    </tr>\n",
       "    <tr>\n",
       "      <th>2</th>\n",
       "      <td>Melão</td>\n",
       "      <td>Sudoeste da Ásia</td>\n",
       "    </tr>\n",
       "    <tr>\n",
       "      <th>3</th>\n",
       "      <td>Melancia</td>\n",
       "      <td>Nordeste da África</td>\n",
       "    </tr>\n",
       "    <tr>\n",
       "      <th>4</th>\n",
       "      <td>Morango</td>\n",
       "      <td>Europa</td>\n",
       "    </tr>\n",
       "  </tbody>\n",
       "</table>\n",
       "</div>"
      ],
      "text/plain": [
       "      Nomes    Região de Origem\n",
       "0      Maçã        Ásia Central\n",
       "2     Melão    Sudoeste da Ásia\n",
       "3  Melancia  Nordeste da África\n",
       "4   Morango              Europa"
      ]
     },
     "execution_count": 13,
     "metadata": {},
     "output_type": "execute_result"
    }
   ],
   "source": [
    "começam_com_M = df[\"Nomes\"].str.startswith(\"M\")\n",
    "df[começam_com_M]"
   ]
  },
  {
   "cell_type": "code",
   "execution_count": 17,
   "id": "e453106c-aa65-461c-abd3-820fa7f4b3f0",
   "metadata": {},
   "outputs": [
    {
     "data": {
      "text/html": [
       "<div>\n",
       "<style scoped>\n",
       "    .dataframe tbody tr th:only-of-type {\n",
       "        vertical-align: middle;\n",
       "    }\n",
       "\n",
       "    .dataframe tbody tr th {\n",
       "        vertical-align: top;\n",
       "    }\n",
       "\n",
       "    .dataframe thead th {\n",
       "        text-align: right;\n",
       "    }\n",
       "</style>\n",
       "<table border=\"1\" class=\"dataframe\">\n",
       "  <thead>\n",
       "    <tr style=\"text-align: right;\">\n",
       "      <th></th>\n",
       "      <th>Nomes</th>\n",
       "      <th>Região de Origem</th>\n",
       "    </tr>\n",
       "  </thead>\n",
       "  <tbody>\n",
       "    <tr>\n",
       "      <th>1</th>\n",
       "      <td>Uva</td>\n",
       "      <td>Oriente Médio</td>\n",
       "    </tr>\n",
       "    <tr>\n",
       "      <th>3</th>\n",
       "      <td>Melancia</td>\n",
       "      <td>Nordeste da África</td>\n",
       "    </tr>\n",
       "    <tr>\n",
       "      <th>5</th>\n",
       "      <td>Tangerina</td>\n",
       "      <td>Sudeste da Ásia</td>\n",
       "    </tr>\n",
       "  </tbody>\n",
       "</table>\n",
       "</div>"
      ],
      "text/plain": [
       "       Nomes    Região de Origem\n",
       "1        Uva       Oriente Médio\n",
       "3   Melancia  Nordeste da África\n",
       "5  Tangerina     Sudeste da Ásia"
      ]
     },
     "execution_count": 17,
     "metadata": {},
     "output_type": "execute_result"
    }
   ],
   "source": [
    "terminam_com_a = df[\"Nomes\"].str.endswith(\"a\")\n",
    "df[terminam_com_a]"
   ]
  },
  {
   "cell_type": "code",
   "execution_count": 29,
   "id": "04977d39-4693-4a9c-a663-36104193eb6a",
   "metadata": {},
   "outputs": [],
   "source": [
    "álbuns = {'Nome': ['The Tipping Point', 'The New Danger', 'The Eminem Show', 'When I Get Home', 'Graduation'],\n",
    "          'Artista': ['The Roots', 'Mos Def', 'Eminem', 'Solange', 'Kanye West'],\n",
    "          'Ano': [2004, 2004, 2002, 2019, 2007]}\n",
    "álbuns_df = pd.DataFrame(álbuns).sort_values(\"Nome\")"
   ]
  },
  {
   "cell_type": "code",
   "execution_count": 30,
   "id": "4e9f6b04-793b-436b-a4a6-cbba2001ce0b",
   "metadata": {},
   "outputs": [
    {
     "data": {
      "text/html": [
       "<div>\n",
       "<style scoped>\n",
       "    .dataframe tbody tr th:only-of-type {\n",
       "        vertical-align: middle;\n",
       "    }\n",
       "\n",
       "    .dataframe tbody tr th {\n",
       "        vertical-align: top;\n",
       "    }\n",
       "\n",
       "    .dataframe thead th {\n",
       "        text-align: right;\n",
       "    }\n",
       "</style>\n",
       "<table border=\"1\" class=\"dataframe\">\n",
       "  <thead>\n",
       "    <tr style=\"text-align: right;\">\n",
       "      <th></th>\n",
       "      <th>Nome</th>\n",
       "      <th>Artista</th>\n",
       "      <th>Ano</th>\n",
       "    </tr>\n",
       "  </thead>\n",
       "  <tbody>\n",
       "    <tr>\n",
       "      <th>4</th>\n",
       "      <td>Graduation</td>\n",
       "      <td>Kanye West</td>\n",
       "      <td>2007</td>\n",
       "    </tr>\n",
       "    <tr>\n",
       "      <th>2</th>\n",
       "      <td>The Eminem Show</td>\n",
       "      <td>Eminem</td>\n",
       "      <td>2002</td>\n",
       "    </tr>\n",
       "    <tr>\n",
       "      <th>1</th>\n",
       "      <td>The New Danger</td>\n",
       "      <td>Mos Def</td>\n",
       "      <td>2004</td>\n",
       "    </tr>\n",
       "    <tr>\n",
       "      <th>0</th>\n",
       "      <td>The Tipping Point</td>\n",
       "      <td>The Roots</td>\n",
       "      <td>2004</td>\n",
       "    </tr>\n",
       "    <tr>\n",
       "      <th>3</th>\n",
       "      <td>When I Get Home</td>\n",
       "      <td>Solange</td>\n",
       "      <td>2019</td>\n",
       "    </tr>\n",
       "  </tbody>\n",
       "</table>\n",
       "</div>"
      ],
      "text/plain": [
       "                Nome     Artista   Ano\n",
       "4         Graduation  Kanye West  2007\n",
       "2    The Eminem Show      Eminem  2002\n",
       "1     The New Danger     Mos Def  2004\n",
       "0  The Tipping Point   The Roots  2004\n",
       "3    When I Get Home     Solange  2019"
      ]
     },
     "execution_count": 30,
     "metadata": {},
     "output_type": "execute_result"
    }
   ],
   "source": [
    "álbuns_df"
   ]
  },
  {
   "cell_type": "code",
   "execution_count": 32,
   "id": "bb84a8bd-e3f9-4dd2-a698-c4b672301313",
   "metadata": {},
   "outputs": [
    {
     "data": {
      "text/plain": [
       "Nome\n",
       "The           3\n",
       "Graduation    1\n",
       "When          1\n",
       "Name: count, dtype: int64"
      ]
     },
     "execution_count": 32,
     "metadata": {},
     "output_type": "execute_result"
    }
   ],
   "source": [
    "álbuns_df[\"Nome\"].str.split(\" \").str.get(0).value_counts()"
   ]
  },
  {
   "cell_type": "code",
   "execution_count": null,
   "id": "c595fa99-5922-4942-a5b2-437a36c31f1f",
   "metadata": {},
   "outputs": [],
   "source": []
  }
 ],
 "metadata": {
  "kernelspec": {
   "display_name": "Python 3 (ipykernel)",
   "language": "python",
   "name": "python3"
  },
  "language_info": {
   "codemirror_mode": {
    "name": "ipython",
    "version": 3
   },
   "file_extension": ".py",
   "mimetype": "text/x-python",
   "name": "python",
   "nbconvert_exporter": "python",
   "pygments_lexer": "ipython3",
   "version": "3.13.2"
  }
 },
 "nbformat": 4,
 "nbformat_minor": 5
}
