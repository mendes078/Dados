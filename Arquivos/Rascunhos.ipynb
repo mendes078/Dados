{
 "cells": [
  {
   "cell_type": "code",
   "execution_count": 1,
   "id": "2d1a501a-dd7f-493f-a66f-cd4ad2afa9ad",
   "metadata": {},
   "outputs": [],
   "source": [
    "import pandas as pd"
   ]
  },
  {
   "cell_type": "code",
   "execution_count": 3,
   "id": "8123dbec-464a-49fb-b5b0-f3c6e633ff62",
   "metadata": {},
   "outputs": [],
   "source": [
    "frutas = {'Nomes': ['Maçã', 'Uva', 'Melão', 'Melancia', 'Morango', 'Tangerina'],\n",
    "          'Região de Origem': ['Ásia Central', 'Oriente Médio', 'Sudoeste da Ásia', 'Nordeste da África', 'Europa', 'Sudeste da Ásia']}\n",
    "df = pd.DataFrame(frutas)"
   ]
  },
  {
   "cell_type": "code",
   "execution_count": 10,
   "id": "1857f6f7-aff6-421d-9f29-f6b502bb6736",
   "metadata": {},
   "outputs": [
    {
     "data": {
      "text/html": [
       "<div>\n",
       "<style scoped>\n",
       "    .dataframe tbody tr th:only-of-type {\n",
       "        vertical-align: middle;\n",
       "    }\n",
       "\n",
       "    .dataframe tbody tr th {\n",
       "        vertical-align: top;\n",
       "    }\n",
       "\n",
       "    .dataframe thead th {\n",
       "        text-align: right;\n",
       "    }\n",
       "</style>\n",
       "<table border=\"1\" class=\"dataframe\">\n",
       "  <thead>\n",
       "    <tr style=\"text-align: right;\">\n",
       "      <th></th>\n",
       "      <th>Nomes</th>\n",
       "      <th>Região de Origem</th>\n",
       "    </tr>\n",
       "  </thead>\n",
       "  <tbody>\n",
       "    <tr>\n",
       "      <th>0</th>\n",
       "      <td>Maçã</td>\n",
       "      <td>Ásia Central</td>\n",
       "    </tr>\n",
       "    <tr>\n",
       "      <th>2</th>\n",
       "      <td>Melão</td>\n",
       "      <td>Sudoeste da Ásia</td>\n",
       "    </tr>\n",
       "    <tr>\n",
       "      <th>5</th>\n",
       "      <td>Tangerina</td>\n",
       "      <td>Sudeste da Ásia</td>\n",
       "    </tr>\n",
       "  </tbody>\n",
       "</table>\n",
       "</div>"
      ],
      "text/plain": [
       "       Nomes  Região de Origem\n",
       "0       Maçã      Ásia Central\n",
       "2      Melão  Sudoeste da Ásia\n",
       "5  Tangerina   Sudeste da Ásia"
      ]
     },
     "execution_count": 10,
     "metadata": {},
     "output_type": "execute_result"
    }
   ],
   "source": [
    "origem_asiática = df[\"Região de Origem\"].str.contains(\"Ásia\")\n",
    "df[origem_asiática]"
   ]
  },
  {
   "cell_type": "code",
   "execution_count": 13,
   "id": "9ea40f22-0c2e-4c0f-b63a-13fbf996f3e3",
   "metadata": {},
   "outputs": [
    {
     "data": {
      "text/html": [
       "<div>\n",
       "<style scoped>\n",
       "    .dataframe tbody tr th:only-of-type {\n",
       "        vertical-align: middle;\n",
       "    }\n",
       "\n",
       "    .dataframe tbody tr th {\n",
       "        vertical-align: top;\n",
       "    }\n",
       "\n",
       "    .dataframe thead th {\n",
       "        text-align: right;\n",
       "    }\n",
       "</style>\n",
       "<table border=\"1\" class=\"dataframe\">\n",
       "  <thead>\n",
       "    <tr style=\"text-align: right;\">\n",
       "      <th></th>\n",
       "      <th>Nomes</th>\n",
       "      <th>Região de Origem</th>\n",
       "    </tr>\n",
       "  </thead>\n",
       "  <tbody>\n",
       "    <tr>\n",
       "      <th>0</th>\n",
       "      <td>Maçã</td>\n",
       "      <td>Ásia Central</td>\n",
       "    </tr>\n",
       "    <tr>\n",
       "      <th>2</th>\n",
       "      <td>Melão</td>\n",
       "      <td>Sudoeste da Ásia</td>\n",
       "    </tr>\n",
       "    <tr>\n",
       "      <th>3</th>\n",
       "      <td>Melancia</td>\n",
       "      <td>Nordeste da África</td>\n",
       "    </tr>\n",
       "    <tr>\n",
       "      <th>4</th>\n",
       "      <td>Morango</td>\n",
       "      <td>Europa</td>\n",
       "    </tr>\n",
       "  </tbody>\n",
       "</table>\n",
       "</div>"
      ],
      "text/plain": [
       "      Nomes    Região de Origem\n",
       "0      Maçã        Ásia Central\n",
       "2     Melão    Sudoeste da Ásia\n",
       "3  Melancia  Nordeste da África\n",
       "4   Morango              Europa"
      ]
     },
     "execution_count": 13,
     "metadata": {},
     "output_type": "execute_result"
    }
   ],
   "source": [
    "começam_com_M = df[\"Nomes\"].str.startswith(\"M\")\n",
    "df[começam_com_M]"
   ]
  },
  {
   "cell_type": "code",
   "execution_count": 17,
   "id": "e453106c-aa65-461c-abd3-820fa7f4b3f0",
   "metadata": {},
   "outputs": [
    {
     "data": {
      "text/html": [
       "<div>\n",
       "<style scoped>\n",
       "    .dataframe tbody tr th:only-of-type {\n",
       "        vertical-align: middle;\n",
       "    }\n",
       "\n",
       "    .dataframe tbody tr th {\n",
       "        vertical-align: top;\n",
       "    }\n",
       "\n",
       "    .dataframe thead th {\n",
       "        text-align: right;\n",
       "    }\n",
       "</style>\n",
       "<table border=\"1\" class=\"dataframe\">\n",
       "  <thead>\n",
       "    <tr style=\"text-align: right;\">\n",
       "      <th></th>\n",
       "      <th>Nomes</th>\n",
       "      <th>Região de Origem</th>\n",
       "    </tr>\n",
       "  </thead>\n",
       "  <tbody>\n",
       "    <tr>\n",
       "      <th>1</th>\n",
       "      <td>Uva</td>\n",
       "      <td>Oriente Médio</td>\n",
       "    </tr>\n",
       "    <tr>\n",
       "      <th>3</th>\n",
       "      <td>Melancia</td>\n",
       "      <td>Nordeste da África</td>\n",
       "    </tr>\n",
       "    <tr>\n",
       "      <th>5</th>\n",
       "      <td>Tangerina</td>\n",
       "      <td>Sudeste da Ásia</td>\n",
       "    </tr>\n",
       "  </tbody>\n",
       "</table>\n",
       "</div>"
      ],
      "text/plain": [
       "       Nomes    Região de Origem\n",
       "1        Uva       Oriente Médio\n",
       "3   Melancia  Nordeste da África\n",
       "5  Tangerina     Sudeste da Ásia"
      ]
     },
     "execution_count": 17,
     "metadata": {},
     "output_type": "execute_result"
    }
   ],
   "source": [
    "terminam_com_a = df[\"Nomes\"].str.endswith(\"a\")\n",
    "df[terminam_com_a]"
   ]
  },
  {
   "cell_type": "code",
   "execution_count": 20,
   "id": "79190062-ed01-422b-ba0e-b5ff015e7f99",
   "metadata": {},
   "outputs": [
    {
     "data": {
      "text/plain": [
       "Index(['Nomes', 'Região de Origem'], dtype='object')"
      ]
     },
     "execution_count": 20,
     "metadata": {},
     "output_type": "execute_result"
    }
   ],
   "source": []
  },
  {
   "cell_type": "code",
   "execution_count": null,
   "id": "04977d39-4693-4a9c-a663-36104193eb6a",
   "metadata": {},
   "outputs": [],
   "source": []
  }
 ],
 "metadata": {
  "kernelspec": {
   "display_name": "Python 3 (ipykernel)",
   "language": "python",
   "name": "python3"
  },
  "language_info": {
   "codemirror_mode": {
    "name": "ipython",
    "version": 3
   },
   "file_extension": ".py",
   "mimetype": "text/x-python",
   "name": "python",
   "nbconvert_exporter": "python",
   "pygments_lexer": "ipython3",
   "version": "3.13.2"
  }
 },
 "nbformat": 4,
 "nbformat_minor": 5
}
